{
  "nbformat": 4,
  "nbformat_minor": 0,
  "metadata": {
    "colab": {
      "provenance": [],
      "authorship_tag": "ABX9TyO9kUtSVnkR5sTzBMJ9AsFl",
      "include_colab_link": true
    },
    "kernelspec": {
      "name": "python3",
      "display_name": "Python 3"
    },
    "language_info": {
      "name": "python"
    }
  },
  "cells": [
    {
      "cell_type": "markdown",
      "metadata": {
        "id": "view-in-github",
        "colab_type": "text"
      },
      "source": [
        "<a href=\"https://colab.research.google.com/github/sscc37/C.Language/blob/20250415/0415.ipynb\" target=\"_parent\"><img src=\"https://colab.research.google.com/assets/colab-badge.svg\" alt=\"Open In Colab\"/></a>"
      ]
    },
    {
      "cell_type": "code",
      "execution_count": 2,
      "metadata": {
        "colab": {
          "base_uri": "https://localhost:8080/"
        },
        "id": "9ady7OfAHLw-",
        "outputId": "3cff1d9d-ed39-43c0-917e-0bbd8f95ec02"
      },
      "outputs": [
        {
          "output_type": "stream",
          "name": "stdout",
          "text": [
            "포사체 운동 계산 프로그램\n",
            "-----------------------\n",
            "절벽의 높이(m)를 입력하세요: 100\n",
            "초기 속도(m/s)를 입력하세요: 140\n",
            "발사 각도(도)를 입력하세요: 37\n",
            "\n",
            "========== 계산 결과 ==========\n",
            "포사체가 지면에 충돌하기까지 걸린 시간: 18.31 초\n",
            "충돌 지점까지의 수평 거리: 2047.15 m\n",
            "\n",
            "충돌 직전 속도 성분:\n",
            "수평 성분 (Vx): 111.81 m/s\n",
            "수직 성분 (Vy): -95.18 m/s (아래 방향이 음수)\n",
            "충돌 속도 크기: 146.83 m/s\n",
            "충돌 각도(지면과 이루는 각): 40.41 도\n"
          ]
        }
      ],
      "source": [
        "import math\n",
        "\n",
        "\n",
        "G = 9.8\n",
        "\n",
        "def main():\n",
        "\n",
        "    print(\"포사체 운동 계산 프로그램\")\n",
        "    print(\"-----------------------\")\n",
        "\n",
        "    h = float(input(\"절벽의 높이(m)를 입력하세요: \"))\n",
        "    v0 = float(input(\"초기 속도(m/s)를 입력하세요: \"))\n",
        "    angle_degrees = float(input(\"발사 각도(도)를 입력하세요: \"))\n",
        "\n",
        "\n",
        "    angle_radians = angle_degrees * math.pi / 180.0\n",
        "\n",
        "\n",
        "    v0x = v0 * math.cos(angle_radians)\n",
        "    v0y = v0 * math.sin(angle_radians)\n",
        "\n",
        "\n",
        "    a = -0.5 * G\n",
        "    b = v0y\n",
        "    c = h\n",
        "\n",
        "\n",
        "    discriminant = b**2 - 4*a*c\n",
        "\n",
        "    if discriminant < 0:\n",
        "        print(\"해가 없습니다. 포사체가 지면에 도달하지 않습니다.\")\n",
        "        return\n",
        "\n",
        "    t1 = (-b + math.sqrt(discriminant)) / (2*a)\n",
        "    t2 = (-b - math.sqrt(discriminant)) / (2*a)\n",
        "\n",
        "\n",
        "    if t1 > 0 and t2 > 0:\n",
        "        time = min(t1, t2)\n",
        "    elif t1 > 0:\n",
        "        time = t1\n",
        "    elif t2 > 0:\n",
        "        time = t2\n",
        "    else:\n",
        "        print(\"유효한 해가 없습니다.\")\n",
        "        return\n",
        "\n",
        "\n",
        "    X = v0x * time\n",
        "\n",
        "\n",
        "    vx = v0x\n",
        "    vy = v0y - G * time\n",
        "\n",
        "\n",
        "    v = math.sqrt(vx**2 + vy**2)\n",
        "\n",
        "    impact_angle = math.atan2(-vy, vx) * 180 / math.pi\n",
        "\n",
        "\n",
        "    print(\"\\n========== 계산 결과 ==========\")\n",
        "    print(f\"포사체가 지면에 충돌하기까지 걸린 시간: {time:.2f} 초\")\n",
        "    print(f\"충돌 지점까지의 수평 거리: {X:.2f} m\")\n",
        "    print(\"\\n충돌 직전 속도 성분:\")\n",
        "    print(f\"수평 성분 (Vx): {vx:.2f} m/s\")\n",
        "    print(f\"수직 성분 (Vy): {vy:.2f} m/s (아래 방향이 음수)\")\n",
        "    print(f\"충돌 속도 크기: {v:.2f} m/s\")\n",
        "    print(f\"충돌 각도(지면과 이루는 각): {impact_angle:.2f} 도\")\n",
        "\n",
        "if __name__ == \"__main__\":\n",
        "    main()"
      ]
    }
  ]
}