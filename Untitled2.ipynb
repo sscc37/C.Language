{
  "nbformat": 4,
  "nbformat_minor": 0,
  "metadata": {
    "colab": {
      "provenance": [],
      "authorship_tag": "ABX9TyNqryRhwzeHZgyWFIBv9vkT",
      "include_colab_link": true
    },
    "kernelspec": {
      "name": "python3",
      "display_name": "Python 3"
    },
    "language_info": {
      "name": "python"
    }
  },
  "cells": [
    {
      "cell_type": "markdown",
      "metadata": {
        "id": "view-in-github",
        "colab_type": "text"
      },
      "source": [
        "<a href=\"https://colab.research.google.com/github/sscc37/C.Language/blob/20250410/Untitled2.ipynb\" target=\"_parent\"><img src=\"https://colab.research.google.com/assets/colab-badge.svg\" alt=\"Open In Colab\"/></a>"
      ]
    },
    {
      "cell_type": "code",
      "execution_count": 1,
      "metadata": {
        "colab": {
          "base_uri": "https://localhost:8080/"
        },
        "id": "TrBv4NoJnqry",
        "outputId": "b7c4fdce-cdde-40ab-f91e-79ffc531b5d9"
      },
      "outputs": [
        {
          "output_type": "stream",
          "name": "stdout",
          "text": [
            "물체의 초기 속도 ==>50\n",
            "물체의 초기 각도 ==>30\n",
            "7.71, -49.40\n",
            "-121.55\n",
            "-4.98\n",
            "1.85\n",
            "50.00, 50.00\n",
            "0.00, 0.00\n"
          ]
        }
      ],
      "source": [
        "import math\n",
        "\n",
        "# Initialize variables\n",
        "v0 = 0.0\n",
        "angle = 0.0\n",
        "H = 0.0\n",
        "t = 0.0\n",
        "v = 0.0\n",
        "R = 0.0\n",
        "g = -9.8\n",
        "vx = 0.0\n",
        "vy = 0.0\n",
        "PI = 3.141592\n",
        "vx1 = 0.0\n",
        "vy1 = 0.0\n",
        "\n",
        "# Get input from user\n",
        "v0 = float(input(\"물체의 초기 속도 ==>\"))\n",
        "angle = float(input(\"물체의 초기 각도 ==>\"))\n",
        "\n",
        "# 1. Calculate initial velocity in x and y directions\n",
        "v0x = v0 * math.cos(angle)\n",
        "v0y = v0 * math.sin(angle)\n",
        "print(f\"{v0x:.2f}, {v0y:.2f}\")\n",
        "\n",
        "# 2. Calculate maximum height\n",
        "H = (v0y * v0y * math.sin(angle) * math.sin(angle) / (2 * g))\n",
        "print(f\"{H:.2f}\")\n",
        "\n",
        "# 3. Calculate time to reach maximum height\n",
        "t = (v0y * math.sin(angle) / g)\n",
        "print(f\"{t:.2f}\")\n",
        "\n",
        "# 4. Calculate maximum horizontal distance\n",
        "R = (v0x * v0x * math.sin(2 * angle) / g)\n",
        "print(f\"{R:.2f}\")\n",
        "\n",
        "# 5. Calculate vx, vy when hitting the ground\n",
        "vx = (v0x / math.cos(angle))\n",
        "vy = (v0y / math.sin(angle))\n",
        "print(f\"{vx:.2f}, {vy:.2f}\")\n",
        "\n",
        "print(f\"{vx1:.2f}, {vy1:.2f}\")"
      ]
    }
  ]
}